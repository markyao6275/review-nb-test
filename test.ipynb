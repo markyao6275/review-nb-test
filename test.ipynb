{
 "cells": [
  {
   "cell_type": "markdown",
   "id": "f98d0efd",
   "metadata": {},
   "source": [
    "# Test Notebook\n",
    "This test notebook is for testing ReviewNB for Jupyter Notebook code reviews"
   ]
  },
  {
   "cell_type": "code",
   "execution_count": 23,
   "id": "fc6b104c",
   "metadata": {},
   "outputs": [],
   "source": [
    "import matplotlib.pyplot as plt\n",
    "import numpy as np\n",
    "import pandas as pd\n",
    "from sklearn.linear_model import LinearRegression\n",
    "from sklearn.model_selection import train_test_split\n",
    "\n",
    "%matplotlib inline"
   ]
  },
  {
   "cell_type": "markdown",
   "id": "2365fb65",
   "metadata": {},
   "source": [
    "## Generate Data"
   ]
  },
  {
   "cell_type": "code",
   "execution_count": 54,
   "id": "70466598",
   "metadata": {},
   "outputs": [],
   "source": [
    "seed = 123\n",
    "num_rows = 1000\n",
    "rng = np.random.default_rng(seed=seed)\n",
    "input_data = rng.random((num_rows, 1))\n",
    "\n",
    "intercept = 1.5\n",
    "weight = 0.2\n",
    "\n",
    "noise = np.random.normal(0, 1, num_rows).reshape((num_rows, 1))\n",
    "target = intercept + weight * input_data + noise\n",
    "\n",
    "X_train, X_test, y_train, y_test = train_test_split(input_data, target, test_size=0.33, random_state=seed)"
   ]
  },
  {
   "cell_type": "markdown",
   "id": "898ee363",
   "metadata": {},
   "source": [
    "## Train Model"
   ]
  },
  {
   "cell_type": "code",
   "execution_count": 55,
   "id": "990b87b9",
   "metadata": {},
   "outputs": [
    {
     "name": "stdout",
     "output_type": "stream",
     "text": [
      "Coefficient: [[0.24453446]], Intercept: [1.52646149]\n"
     ]
    }
   ],
   "source": [
    "model = LinearRegression().fit(X_train, y_train)\n",
    "print(\"Coefficient: {}, Intercept: {}\".format(model.coef_, model.intercept_))"
   ]
  },
  {
   "cell_type": "markdown",
   "id": "950aeea1",
   "metadata": {},
   "source": [
    "## Plot Charts"
   ]
  },
  {
   "cell_type": "code",
   "execution_count": 57,
   "id": "18b0da06",
   "metadata": {},
   "outputs": [
    {
     "data": {
      "image/png": "[encoded data removed]",
      "text/plain": [
       "<Figure size 432x288 with 1 Axes>"
      ]
     },
     "metadata": {
      "needs_background": "light"
     },
     "output_type": "display_data"
    }
   ],
   "source": [
    "x_start = 0\n",
    "x_end = 1\n",
    "[y_start, y_end] = model.predict([[x_start], [x_end]])\n",
    "\n",
    "plt.scatter(training_data['input'], training_data['target'])\n",
    "plt.plot([x_start, x_end], [y_start, y_end], color = 'r')\n",
    "plt.xlim(x_start, x_end)\n",
    "plt.ylim(min([y_start, y_end, 0]), max([2 * y_start, 2 * y_end, 1]))\n",
    "plt.xlabel('Input')\n",
    "plt.ylabel('Target')\n",
    "plt.title('Linear Regression')\n",
    "plt.show()\n"
   ]
  },
  {
   "cell_type": "markdown",
   "id": "68815471",
   "metadata": {},
   "source": [
    "## Evaluate Model"
   ]
  },
  {
   "cell_type": "code",
   "execution_count": 58,
   "id": "6001f00f",
   "metadata": {},
   "outputs": [
    {
     "data": {
      "text/plain": [
       "0.0027158186892797254"
      ]
     },
     "execution_count": 58,
     "metadata": {},
     "output_type": "execute_result"
    }
   ],
   "source": [
    "score = model.score(X_test, y_test)\n",
    "print(\"Model Score on Test Data: {}\".format(score))"
   ]
  }
 ],
 "metadata": {
  "kernelspec": {
   "display_name": "Python 3 (ipykernel)",
   "language": "python",
   "name": "python3"
  },
  "language_info": {
   "codemirror_mode": {
    "name": "ipython",
    "version": 3
   },
   "file_extension": ".py",
   "mimetype": "text/x-python",
   "name": "python",
   "nbconvert_exporter": "python",
   "pygments_lexer": "ipython3",
   "version": "3.7.7"
  }
 },
 "nbformat": 4,
 "nbformat_minor": 5
}
